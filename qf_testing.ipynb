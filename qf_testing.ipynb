{
 "cells": [
  {
   "cell_type": "code",
   "execution_count": 35,
   "metadata": {},
   "outputs": [],
   "source": [
    "import pandas as pd\n",
    "import fundingutils\n",
    "\n",
    "def run_qf(votes_file, strategy, min_donation_threshold_amount, matching_cap_amount, matching_amount, passport_threshold):\n",
    "    votes = pd.read_csv(votes_file)\n",
    "\n",
    "    # Prepare votes data\n",
    "    votes_prep = fundingutils.prep_donations_data(votes, min_donation_threshold_amount, passport_threshold)\n",
    "    votes_matrix = fundingutils.pivot_votes(votes_prep)\n",
    "    votes_qf_matching = fundingutils.get_qf_matching(strategy, votes_matrix, matching_cap_amount, matching_amount, cluster_df = None if strategy == 'qf' else votes_matrix)\n",
    "    \n",
    "    # Save the matching data to a csv file\n",
    "    votes_qf_matching['strategy'] = strategy\n",
    "    return votes_qf_matching, votes\n",
    "\n",
    "def run_test():\n",
    "    # Use a default csv file in the same directory\n",
    "    votes_file = 'Zuzalu_events_votes.csv'\n",
    "    strategy = 'COCM' # can accept: 'qf' or 'COCM' \n",
    "    min_donation_threshold_amount = 1\n",
    "    matching_cap_amount = 50\n",
    "    matching_amount = 166.5\n",
    "    passport_threshold = 15\n",
    "\n",
    "    matching, votes = run_qf(votes_file, strategy, min_donation_threshold_amount, matching_cap_amount, matching_amount, passport_threshold)\n",
    "    return matching, votes"
   ]
  },
  {
   "cell_type": "code",
   "execution_count": null,
   "metadata": {},
   "outputs": [],
   "source": [
    "matching, votes = run_test()\n",
    "matching"
   ]
  },
  {
   "cell_type": "code",
   "execution_count": null,
   "metadata": {},
   "outputs": [],
   "source": [
    "votes"
   ]
  }
 ],
 "metadata": {
  "kernelspec": {
   "display_name": "base",
   "language": "python",
   "name": "python3"
  },
  "language_info": {
   "codemirror_mode": {
    "name": "ipython",
    "version": 3
   },
   "file_extension": ".py",
   "mimetype": "text/x-python",
   "name": "python",
   "nbconvert_exporter": "python",
   "pygments_lexer": "ipython3",
   "version": "3.10.11"
  }
 },
 "nbformat": 4,
 "nbformat_minor": 2
}
